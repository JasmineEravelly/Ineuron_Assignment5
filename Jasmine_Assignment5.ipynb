{
 "cells": [
  {
   "cell_type": "code",
   "execution_count": 1,
   "metadata": {},
   "outputs": [
    {
     "name": "stdout",
     "output_type": "stream",
     "text": [
      "exception division by zero\n"
     ]
    }
   ],
   "source": [
    "## Solution1\n",
    "try: \n",
    "    c = 5/0\n",
    "except ZeroDivisionError as e:\n",
    "    print(\"exception\", e)\n",
    "else:\n",
    "    print(\"ok\")\n"
   ]
  },
  {
   "cell_type": "code",
   "execution_count": 2,
   "metadata": {},
   "outputs": [
    {
     "name": "stdout",
     "output_type": "stream",
     "text": [
      "Americans Play Basketball.\n",
      "Americans Play Cricket.\n",
      "Americans Watch Basketball.\n",
      "Americans Watch Cricket.\n",
      "Indians Play Basketball.\n",
      "Indians Play Cricket.\n",
      "Indians Watch Basketball.\n",
      "Indians Watch Cricket.\n",
      "\n",
      "Americans Play Basketball.\n",
      "Americans Play Cricket.\n",
      "Americans Watch Basketball.\n",
      "Americans Watch Cricket.\n",
      "Indians Play Basketball.\n",
      "Indians Play Cricket.\n",
      "Indians Watch Basketball.\n",
      "Indians Watch Cricket.\n"
     ]
    }
   ],
   "source": [
    "## Solution2\n",
    "s=[\"Americans\",\"Indians\"] \n",
    "v=[\"Play\",\"Watch\"] \n",
    "o=[\"Basketball\",\"Cricket\"]\n",
    "for i in s:\n",
    "    for j in v:\n",
    "        for k in o:\n",
    "            print(\"%s %s %s.\" %(i,j,k))\n",
    "print()\n",
    "\n",
    " ####Other way           \n",
    "\n",
    "t = ((i, j,k) for i in s for j in v for k in o)\n",
    "for e in t:\n",
    "    print(\"%s %s %s.\" %(e[0], e[1], e[2]))\n",
    "    \n",
    "    \n",
    "    "
   ]
  },
  {
   "cell_type": "code",
   "execution_count": null,
   "metadata": {},
   "outputs": [],
   "source": []
  }
 ],
 "metadata": {
  "kernelspec": {
   "display_name": "Python 3",
   "language": "python",
   "name": "python3"
  },
  "language_info": {
   "codemirror_mode": {
    "name": "ipython",
    "version": 3
   },
   "file_extension": ".py",
   "mimetype": "text/x-python",
   "name": "python",
   "nbconvert_exporter": "python",
   "pygments_lexer": "ipython3",
   "version": "3.8.5"
  }
 },
 "nbformat": 4,
 "nbformat_minor": 4
}
